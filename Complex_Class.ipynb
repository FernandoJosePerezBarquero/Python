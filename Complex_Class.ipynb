{
  "nbformat": 4,
  "nbformat_minor": 0,
  "metadata": {
    "colab": {
      "name": "Complex Class.ipynb",
      "provenance": [],
      "authorship_tag": "ABX9TyP19Sasv7dFAev6Lwpxh3M2",
      "include_colab_link": true
    },
    "kernelspec": {
      "name": "python3",
      "display_name": "Python 3"
    }
  },
  "cells": [
    {
      "cell_type": "markdown",
      "metadata": {
        "id": "view-in-github",
        "colab_type": "text"
      },
      "source": [
        "<a href=\"https://colab.research.google.com/github/FernandoJosePerezBarquero/Python/blob/master/Complex_Class.ipynb\" target=\"_parent\"><img src=\"https://colab.research.google.com/assets/colab-badge.svg\" alt=\"Open In Colab\"/></a>"
      ]
    },
    {
      "cell_type": "markdown",
      "metadata": {
        "id": "GTKZlP4qrq2w",
        "colab_type": "text"
      },
      "source": [
        "Complex Class"
      ]
    },
    {
      "cell_type": "code",
      "metadata": {
        "id": "rPrgj7iUwID3",
        "colab_type": "code",
        "colab": {}
      },
      "source": [
        "import math"
      ],
      "execution_count": 0,
      "outputs": []
    },
    {
      "cell_type": "code",
      "metadata": {
        "id": "YmlK3h9yrQZO",
        "colab_type": "code",
        "colab": {}
      },
      "source": [
        "class Complex(object):\n",
        "\n",
        "  def __init__(self,real,imag):\n",
        "    \"\"\"\n",
        "    Assume real and imag are int or float\n",
        "    \"\"\"\n",
        "    assert type(real) == int and type(imag) == int, \"Real and Imag have to be numeric\"\n",
        "\n",
        "    self.r = real\n",
        "    self.i = imag\n",
        "\n",
        "  def __add__(self, other):\n",
        "    \"\"\"\n",
        "    Evaluate a+b, and return a Complex\n",
        "    \"\"\"\n",
        "    return Complex (  self.r+other.r ,   self.i+other.i  )\n",
        "\n",
        "\n",
        "  def __sub__(self, other):\n",
        "    \"\"\"\n",
        "    Evaluate a-b, and return a Complex\n",
        "    \"\"\"\n",
        "    return Complex (  self.r-other.r ,   self.i-other.i  )\n",
        "\n",
        "  def __mul__(self, other):\n",
        "    \"\"\"\n",
        "    Evaluate a-b, and return a Complex\n",
        "    \"\"\"\n",
        "    # (a+bi) (c+di) = ac -bd + ( ad+bc    ) \n",
        "    return Complex (  self.r*other.r- self.i*other.i  ,   self.r*other.i+ self.i*other.r  )\n",
        "\n",
        "\n",
        "  def __ratio(self):\n",
        "    return (  self.r**2+ self.i**2 )**0.5\n",
        "\n",
        "  def getPolarForm(self):\n",
        "    \n",
        "    if self.i ==0 :\n",
        "      return str(self.__ratio())+\"(cos(0)+isen(0))\"\n",
        "\n",
        "    teta = math.atan2( self.i ,self.r  )\n",
        "    return str(round( self.__ratio() ,4))+\"(cos(\"+str(round( teta ,4))+\")+isen(\"+str(round( teta ,4))+\"))\"\n",
        "  \n",
        "  def getExponentialForm(self):\n",
        "    if self.i ==0 :\n",
        "      return str(self.__ratio())+'(e^0i)'\n",
        "\n",
        "    teta = math.atan2( self.i ,self.r  )\n",
        "    return str(round( self.__ratio() ,4))+\"(e^\"+str(  round( teta ,4))+\"i)\"\n",
        "\n",
        "\n",
        "  \n",
        "  def __str__(self):\n",
        "    if self.i < 0:\n",
        "      return str(self.r)+str(self.i)+\"i\"\n",
        "    return str(self.r)+\"+\"+str(self.i)+\"i\""
      ],
      "execution_count": 0,
      "outputs": []
    },
    {
      "cell_type": "code",
      "metadata": {
        "id": "dw8BeVvAsi6r",
        "colab_type": "code",
        "colab": {}
      },
      "source": [
        "a = Complex(1,5)\n",
        "b = Complex(2,10)"
      ],
      "execution_count": 0,
      "outputs": []
    },
    {
      "cell_type": "code",
      "metadata": {
        "id": "YZiD7YMxsohb",
        "colab_type": "code",
        "colab": {
          "base_uri": "https://localhost:8080/",
          "height": 34
        },
        "outputId": "97ae3889-14bb-4824-af45-4b5cef2943d7"
      },
      "source": [
        "print(a,b)"
      ],
      "execution_count": 126,
      "outputs": [
        {
          "output_type": "stream",
          "text": [
            "1+5i 2+10i\n"
          ],
          "name": "stdout"
        }
      ]
    },
    {
      "cell_type": "code",
      "metadata": {
        "id": "InIwwprFstht",
        "colab_type": "code",
        "colab": {
          "base_uri": "https://localhost:8080/",
          "height": 34
        },
        "outputId": "02ba4c87-06e2-4c66-c925-d6cfef7e3ec3"
      },
      "source": [
        "print(a+b)"
      ],
      "execution_count": 127,
      "outputs": [
        {
          "output_type": "stream",
          "text": [
            "3+15i\n"
          ],
          "name": "stdout"
        }
      ]
    },
    {
      "cell_type": "code",
      "metadata": {
        "id": "53T0wCyktxgA",
        "colab_type": "code",
        "colab": {
          "base_uri": "https://localhost:8080/",
          "height": 34
        },
        "outputId": "9596c9b3-f89e-4f09-8fed-aac9261da437"
      },
      "source": [
        "print(a-b)"
      ],
      "execution_count": 128,
      "outputs": [
        {
          "output_type": "stream",
          "text": [
            "-1-5i\n"
          ],
          "name": "stdout"
        }
      ]
    },
    {
      "cell_type": "code",
      "metadata": {
        "id": "CPQiFWLOt_E4",
        "colab_type": "code",
        "colab": {
          "base_uri": "https://localhost:8080/",
          "height": 34
        },
        "outputId": "bef6e669-6556-4423-a9c1-c10ffecc207f"
      },
      "source": [
        "print(a*b)"
      ],
      "execution_count": 129,
      "outputs": [
        {
          "output_type": "stream",
          "text": [
            "-48+20i\n"
          ],
          "name": "stdout"
        }
      ]
    },
    {
      "cell_type": "code",
      "metadata": {
        "id": "wzsqdw_Rul8J",
        "colab_type": "code",
        "colab": {}
      },
      "source": [
        "c = Complex(5,0)"
      ],
      "execution_count": 0,
      "outputs": []
    },
    {
      "cell_type": "code",
      "metadata": {
        "id": "t8YfcWsxxlkC",
        "colab_type": "code",
        "colab": {
          "base_uri": "https://localhost:8080/",
          "height": 34
        },
        "outputId": "1ebe76a4-d403-47be-b342-e455b2526b84"
      },
      "source": [
        "c.getPolarForm()"
      ],
      "execution_count": 131,
      "outputs": [
        {
          "output_type": "execute_result",
          "data": {
            "text/plain": [
              "'5.0(cos(0)+isen(0))'"
            ]
          },
          "metadata": {
            "tags": []
          },
          "execution_count": 131
        }
      ]
    },
    {
      "cell_type": "code",
      "metadata": {
        "id": "LBaNUcYvxnAx",
        "colab_type": "code",
        "colab": {
          "base_uri": "https://localhost:8080/",
          "height": 34
        },
        "outputId": "079cb5ff-37b5-4417-b724-b10524a3648d"
      },
      "source": [
        "c.getExponentialForm()"
      ],
      "execution_count": 132,
      "outputs": [
        {
          "output_type": "execute_result",
          "data": {
            "text/plain": [
              "'5.0(e^0i)'"
            ]
          },
          "metadata": {
            "tags": []
          },
          "execution_count": 132
        }
      ]
    }
  ]
}
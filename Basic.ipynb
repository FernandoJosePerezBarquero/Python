{
  "nbformat": 4,
  "nbformat_minor": 0,
  "metadata": {
    "colab": {
      "name": "Basic.ipynb",
      "provenance": [],
      "collapsed_sections": [],
      "authorship_tag": "ABX9TyMrlQIvk85yyf9/JkpDQvpk",
      "include_colab_link": true
    },
    "kernelspec": {
      "name": "python3",
      "display_name": "Python 3"
    }
  },
  "cells": [
    {
      "cell_type": "markdown",
      "metadata": {
        "id": "view-in-github",
        "colab_type": "text"
      },
      "source": [
        "<a href=\"https://colab.research.google.com/github/FernandoJosePerezBarquero/Python/blob/master/Basic.ipynb\" target=\"_parent\"><img src=\"https://colab.research.google.com/assets/colab-badge.svg\" alt=\"Open In Colab\"/></a>"
      ]
    },
    {
      "cell_type": "markdown",
      "metadata": {
        "id": "Ekg0f4e4DMo-",
        "colab_type": "text"
      },
      "source": [
        "# Python object"
      ]
    },
    {
      "cell_type": "markdown",
      "metadata": {
        "id": "WaRujZp4DSI5",
        "colab_type": "text"
      },
      "source": [
        "## Integer"
      ]
    },
    {
      "cell_type": "code",
      "metadata": {
        "id": "IcBwrMMRCqln",
        "colab_type": "code",
        "colab": {
          "base_uri": "https://localhost:8080/",
          "height": 34
        },
        "outputId": "77d385a2-8be4-4b13-9c1c-5134cea8c17a"
      },
      "source": [
        "# Define a integer variable\n",
        "a = 6 \n",
        "\n",
        "# Return a-class type\n",
        "type( a)\n",
        "\n",
        "# Convert any variable (float or string) to  integer\n",
        "int( a)\n",
        "\n",
        "# Power\n",
        "a**2\n"
      ],
      "execution_count": 2,
      "outputs": [
        {
          "output_type": "execute_result",
          "data": {
            "text/plain": [
              "36"
            ]
          },
          "metadata": {
            "tags": []
          },
          "execution_count": 2
        }
      ]
    },
    {
      "cell_type": "markdown",
      "metadata": {
        "id": "UWTRkM6cD8uR",
        "colab_type": "text"
      },
      "source": [
        "## Float"
      ]
    },
    {
      "cell_type": "code",
      "metadata": {
        "id": "_1PJwuliDtFK",
        "colab_type": "code",
        "colab": {
          "base_uri": "https://localhost:8080/",
          "height": 34
        },
        "outputId": "7b0445de-4dc0-462f-9968-dca9f6d4c39d"
      },
      "source": [
        "# Define a float variable\n",
        "a = 6.0 \n",
        "\n",
        "# Convert any variable (int or string) to  float\n",
        "float( a)\n"
      ],
      "execution_count": 3,
      "outputs": [
        {
          "output_type": "execute_result",
          "data": {
            "text/plain": [
              "6.0"
            ]
          },
          "metadata": {
            "tags": []
          },
          "execution_count": 3
        }
      ]
    },
    {
      "cell_type": "markdown",
      "metadata": {
        "id": "qTXhDTznERST",
        "colab_type": "text"
      },
      "source": [
        "## String"
      ]
    },
    {
      "cell_type": "code",
      "metadata": {
        "id": "vOAmJGMuEQWK",
        "colab_type": "code",
        "colab": {
          "base_uri": "https://localhost:8080/",
          "height": 102
        },
        "outputId": "3939fe70-961f-4687-9012-bccd1597de51"
      },
      "source": [
        "# Define a string\n",
        "a = \" hello word\"\n",
        "b = 'hi world'\n",
        "\n",
        "print( a,b )\n",
        "\n",
        "# Concatenate \n",
        "c = a+b\n",
        "print(c)\n",
        "\n",
        "# Split,  blank space\n",
        "print( a.split()  )\n",
        "\n",
        "# Split,  \".\", the same way to \".\" another symbol\n",
        "\n",
        "d = \"fernando.perez\"\n",
        "print( d.split( \".\")  )\n",
        "\n",
        "# Research to word in a string\n",
        "\n",
        "\"hi\" is b  #retorna true o false\n",
        "\n",
        "# Length of a string\n",
        "\n",
        "len(a)\n",
        "\n",
        "# Return the specific letter of a string string\n",
        "\n",
        "a[1]\n",
        "\n",
        "#Convert to string \n",
        "#str(variable)"
      ],
      "execution_count": 10,
      "outputs": [
        {
          "output_type": "stream",
          "text": [
            " hello word hi world\n",
            " hello wordhi world\n",
            "['hello', 'word']\n",
            "['fernando', 'perez']\n"
          ],
          "name": "stdout"
        },
        {
          "output_type": "execute_result",
          "data": {
            "text/plain": [
              "'h'"
            ]
          },
          "metadata": {
            "tags": []
          },
          "execution_count": 10
        }
      ]
    },
    {
      "cell_type": "markdown",
      "metadata": {
        "id": "IFVWisLiHROJ",
        "colab_type": "text"
      },
      "source": [
        "## List"
      ]
    },
    {
      "cell_type": "code",
      "metadata": {
        "id": "c4KK4i7jEsFn",
        "colab_type": "code",
        "colab": {}
      },
      "source": [
        "# Define a list\n",
        "\n",
        "a = [1,2,3,3]\n",
        "b = [] # list empty\n",
        "c = [ 10,2,3,9,0]\n",
        "\n",
        "# Concatenate \n",
        "\n",
        "d = a+b\n",
        "\n",
        "# Return the number of elements of a list\n",
        "\n",
        "len(a)\n",
        "\n",
        "# Add new element to end \n",
        "a.append(5)\n",
        "\n",
        "# Insert new element before  a specific index\n",
        "#a.insert( index ,  new_element)\n",
        "a.insert(0, 5)\n",
        "\n",
        "# Return de addition\n",
        "sum(a)\n",
        "\n",
        "# Eliminate the  last element and return it\n",
        "eliminate_elemente1 = a.pop()\n",
        "\n",
        "# Eliminate the element in possition index\n",
        "#eliminate_elemente = a.pop( index)\n",
        "eliminate_elemente2 = a.pop( 2)\n",
        "\n",
        "# Remove a element of a list\n",
        "\n",
        "#a.remove(element )\n",
        "a.remove(3 )\n",
        "\n",
        "# Sort a list, 1,2,3,4\n",
        "c.sort() \n",
        "\n",
        "# Get a list sort,  1,2,3,4  \n",
        "new_list_sorted1 = sorted(c)\n",
        "\n",
        "# Get a list sort,  4,3,2,1 \n",
        "new_list_sorted2 = sorted(c,reverse=True)\n",
        "\n",
        "# Get a alias of a list\n",
        "new_alias = a\n",
        "\n",
        "# Get a clone of a list\n",
        "new_clone = c[:]\n",
        "new_clone = c.copy()\n",
        "\n",
        "\n",
        "# Repeat the list n-th times\n",
        "# f = c*(n-th times)\n",
        "f = c*2\n",
        "\n",
        "# Clear a list\n",
        "a.clear()\n",
        "\n",
        "\n",
        "# Count how many \"i\" there are in a list\n",
        "f.count(2)\n",
        "\n",
        "# Return the index of a element of a list\n",
        "f.index(2)\n",
        "\n",
        "# Extend a list\n",
        "f.extend([2,5,6,9])\n"
      ],
      "execution_count": 0,
      "outputs": []
    },
    {
      "cell_type": "markdown",
      "metadata": {
        "id": "loa7W_UqN-gZ",
        "colab_type": "text"
      },
      "source": [
        "## Truple"
      ]
    },
    {
      "cell_type": "code",
      "metadata": {
        "id": "7YXEwFhrN9r-",
        "colab_type": "code",
        "colab": {
          "base_uri": "https://localhost:8080/",
          "height": 34
        },
        "outputId": "12e65638-d232-4c43-aff4-8ea28b956ddf"
      },
      "source": [
        "# Define a tuple\n",
        "\n",
        "a = (1,2,3,3)\n",
        "b = (1,) # list empty\n",
        "c = ( 10,2,3,9,0)\n",
        "\n",
        "# Concatenate \n",
        "\n",
        "d = a+b\n",
        "\n",
        "# Return the number of elements of a list\n",
        "\n",
        "len(a)\n",
        "\n",
        "# Get a alias of a list\n",
        "new_alias = a\n",
        "\n",
        "# Count how many \"i\" there are in a list\n",
        "f.count(2)\n",
        "\n",
        "# Return the index of a element of a list\n",
        "f.index(2)\n",
        "\n",
        "# Return de addition\n",
        "sum(a)\n",
        "\n",
        "# It is not possible\n",
        "#a[0] = 5\n"
      ],
      "execution_count": 54,
      "outputs": [
        {
          "output_type": "execute_result",
          "data": {
            "text/plain": [
              "1"
            ]
          },
          "metadata": {
            "tags": []
          },
          "execution_count": 54
        }
      ]
    },
    {
      "cell_type": "markdown",
      "metadata": {
        "id": "gHUIOWR0OXjo",
        "colab_type": "text"
      },
      "source": [
        "## Dict"
      ]
    },
    {
      "cell_type": "code",
      "metadata": {
        "id": "pBDoBrcYPO-n",
        "colab_type": "code",
        "colab": {}
      },
      "source": [
        "# Define a disct\n",
        "a = {} #empty\n",
        "b = { 1: 5, 5 : 5 , 8:2}\n",
        "\n",
        "# keys \n",
        "b.keys() #return [1,5,8]\n",
        "\n",
        "# Values\n",
        "b.values # return [5,5,2]\n",
        "\n",
        "# Add new elemente\n",
        "#b[key] = value\n",
        "b[0] = 9\n",
        "\n"
      ],
      "execution_count": 0,
      "outputs": []
    },
    {
      "cell_type": "markdown",
      "metadata": {
        "id": "muX54Q2KP5R9",
        "colab_type": "text"
      },
      "source": [
        "# For loop"
      ]
    },
    {
      "cell_type": "code",
      "metadata": {
        "id": "6TzTv_ZQP4zc",
        "colab_type": "code",
        "colab": {}
      },
      "source": [
        "#Define for loop\n",
        "\n",
        "for i in range(10):\n",
        "  print(i)\n",
        "\n",
        "x = [ i for i in range(10)]\n",
        "x = [ i for i in range(10) if i%2 ==0 ]\n",
        "\n",
        "# % is module\n",
        "\n",
        "q = [ \"hi\", \"j\" , \"world \"]:\n",
        "\n",
        "for i in q:\n",
        "  print(q)\n",
        "\n",
        "\n",
        "for i in range(100):\n",
        "  if i == 50:\n",
        "    break\n",
        "\n",
        "\n"
      ],
      "execution_count": 0,
      "outputs": []
    },
    {
      "cell_type": "markdown",
      "metadata": {
        "id": "2uNO7n1EQnUc",
        "colab_type": "text"
      },
      "source": [
        "# If, elif, else"
      ]
    },
    {
      "cell_type": "code",
      "metadata": {
        "id": "lxiFAlodQm8w",
        "colab_type": "code",
        "colab": {}
      },
      "source": [
        "a = 100\n",
        "\n",
        "if a< 10:\n",
        "  print(\"hi\")\n",
        "elif a>5:\n",
        "  print(\"6\")\n",
        "else:\n",
        "  print(\"error\")"
      ],
      "execution_count": 0,
      "outputs": []
    },
    {
      "cell_type": "markdown",
      "metadata": {
        "id": "oOObOE9JQ2kJ",
        "colab_type": "text"
      },
      "source": [
        "# While"
      ]
    },
    {
      "cell_type": "code",
      "metadata": {
        "id": "UxwMts5lQ2FE",
        "colab_type": "code",
        "colab": {}
      },
      "source": [
        "#Define a whilw loop\n",
        "a=1\n",
        "while a <10 :\n",
        "  a+=1"
      ],
      "execution_count": 0,
      "outputs": []
    }
  ]
}
{
  "nbformat": 4,
  "nbformat_minor": 0,
  "metadata": {
    "colab": {
      "name": "Class Examples.ipynb",
      "provenance": [],
      "collapsed_sections": [],
      "authorship_tag": "ABX9TyMxejwUW5DcnUmxxNAR8Csn",
      "include_colab_link": true
    },
    "kernelspec": {
      "name": "python3",
      "display_name": "Python 3"
    }
  },
  "cells": [
    {
      "cell_type": "markdown",
      "metadata": {
        "id": "view-in-github",
        "colab_type": "text"
      },
      "source": [
        "<a href=\"https://colab.research.google.com/github/FernandoJosePerezBarquero/Python/blob/master/Class_Examples.ipynb\" target=\"_parent\"><img src=\"https://colab.research.google.com/assets/colab-badge.svg\" alt=\"Open In Colab\"/></a>"
      ]
    },
    {
      "cell_type": "markdown",
      "metadata": {
        "id": "JzkfwIbDe4Q8",
        "colab_type": "text"
      },
      "source": [
        "# Class"
      ]
    },
    {
      "cell_type": "code",
      "metadata": {
        "id": "OV_dZPVSegqO",
        "colab_type": "code",
        "colab": {}
      },
      "source": [
        "#Define a class\n",
        "\n",
        "# class class_name(object):\n",
        "#   pass"
      ],
      "execution_count": 0,
      "outputs": []
    },
    {
      "cell_type": "code",
      "metadata": {
        "id": "oZ5fAVabfByD",
        "colab_type": "code",
        "colab": {}
      },
      "source": [
        "class Animal(object):\n",
        "\n",
        "  def __init__(self,name):\n",
        "    \"\"\"\n",
        "    Create a instance of class Animal.\n",
        "    Name is a string \n",
        "    \"\"\"\n",
        "    self.name = name\n",
        "\n",
        "  def getName(self):\n",
        "    return self.name\n",
        "\n",
        "\n",
        "  def __str__(self):\n",
        "    \"\"\"\n",
        "    print(Animal)  return \"Animal: name\"\n",
        "    \"\"\"\n",
        "\n",
        "    return \" Animal: \" +self.name "
      ],
      "execution_count": 0,
      "outputs": []
    },
    {
      "cell_type": "code",
      "metadata": {
        "id": "Qwn9EAYff8k0",
        "colab_type": "code",
        "colab": {}
      },
      "source": [
        "a = Animal(\"pez\")"
      ],
      "execution_count": 0,
      "outputs": []
    },
    {
      "cell_type": "code",
      "metadata": {
        "id": "a_NLLwL4f_Mz",
        "colab_type": "code",
        "colab": {
          "base_uri": "https://localhost:8080/",
          "height": 34
        },
        "outputId": "cafd54d4-d926-42d0-d5d8-563aa7dd6f48"
      },
      "source": [
        "print(a)"
      ],
      "execution_count": 4,
      "outputs": [
        {
          "output_type": "stream",
          "text": [
            " Animal: pez\n"
          ],
          "name": "stdout"
        }
      ]
    },
    {
      "cell_type": "code",
      "metadata": {
        "id": "fgeGiLwhgCWp",
        "colab_type": "code",
        "colab": {
          "base_uri": "https://localhost:8080/",
          "height": 34
        },
        "outputId": "57fd49c2-cd9f-4e6f-ed96-a0cd965c95c3"
      },
      "source": [
        "a.getName()"
      ],
      "execution_count": 5,
      "outputs": [
        {
          "output_type": "execute_result",
          "data": {
            "text/plain": [
              "'pez'"
            ]
          },
          "metadata": {
            "tags": []
          },
          "execution_count": 5
        }
      ]
    },
    {
      "cell_type": "markdown",
      "metadata": {
        "id": "TfnasdlngG1I",
        "colab_type": "text"
      },
      "source": [
        "## Fraction Class "
      ]
    },
    {
      "cell_type": "code",
      "metadata": {
        "id": "8ZU5RimUgEK9",
        "colab_type": "code",
        "colab": {}
      },
      "source": [
        "class Fraction(object):\n",
        "\n",
        "  def __init__(self,a,b=1):\n",
        "\n",
        "    assert type(a) == int and type(b) == int  and b!=0 , \" Input have to be integer\"\n",
        "\n",
        "\n",
        "    self.num = a\n",
        "    self.dem = b\n",
        "\n",
        "  \n",
        "  def __add__(self, other):\n",
        "    \"\"\"\n",
        "    return the addition of two fractions.\n",
        "    return another fraction\n",
        "    \"\"\"\n",
        "    num = self.num*other.dem + other.num*self.dem\n",
        "    dem =  self.dem*other.dem\n",
        "    return Fraction(num,dem)\n",
        "\n",
        "  def __sub__(self, other):\n",
        "    \"\"\"\n",
        "    return the subtration of two fractions.\n",
        "    return another fraction\n",
        "    \"\"\"\n",
        "    num = self.num*other.dem - other.num*self.dem\n",
        "    dem =  self.dem*other.dem\n",
        "    return Fraction(num,dem)\n",
        "\n",
        "\n",
        "  def __mul__(self, other):\n",
        "    \"\"\"\n",
        "    return the multiplication of two fractions.\n",
        "    return another fraction\n",
        "    \"\"\"\n",
        "    num = self.num*other.num \n",
        "    dem =  self.dem*other.dem\n",
        "    return Fraction(num,dem)\n",
        "\n",
        "\n",
        "  def __truediv__(self, other):\n",
        "    \"\"\"\n",
        "    return the multiplication of two fractions.\n",
        "    return another fraction\n",
        "    \"\"\"\n",
        "    return self.__mul__( Fraction( other.dem ,other.num )  )   \n",
        "\n",
        "  def __pow__(self,b):\n",
        "    assert type(b) == int , \"b has to be integer\"\n",
        "    \"\"\"\n",
        "    return the power of a fraction.\n",
        "    return another fraction\n",
        "    \"\"\"\n",
        "    return Fraction( self.num**b ,self.dem**b )\n",
        "\n",
        "\n",
        "  def __invert__(self):\n",
        "    \"\"\"\n",
        "    return the inverse of a fraction.\n",
        "    return another fraction\n",
        "    \"\"\"\n",
        "    return Fraction( self.dem ,self.num ) \n",
        "\n",
        "  def __str__(self):\n",
        "    return str(self.num) + \"/\"+str(self.dem)"
      ],
      "execution_count": 0,
      "outputs": []
    },
    {
      "cell_type": "code",
      "metadata": {
        "id": "t4MgBmi6hbIQ",
        "colab_type": "code",
        "colab": {}
      },
      "source": [
        "a = Fraction(1,4)\n",
        "b = Fraction(5,3)"
      ],
      "execution_count": 0,
      "outputs": []
    },
    {
      "cell_type": "code",
      "metadata": {
        "id": "w7qJDfdXhgF9",
        "colab_type": "code",
        "colab": {
          "base_uri": "https://localhost:8080/",
          "height": 34
        },
        "outputId": "8d6bd19f-6945-48ff-86ad-19b9643bffae"
      },
      "source": [
        "print(a,b)"
      ],
      "execution_count": 67,
      "outputs": [
        {
          "output_type": "stream",
          "text": [
            "1/2 5/3\n"
          ],
          "name": "stdout"
        }
      ]
    },
    {
      "cell_type": "code",
      "metadata": {
        "id": "8CAJcJ5rhhOB",
        "colab_type": "code",
        "colab": {
          "base_uri": "https://localhost:8080/",
          "height": 34
        },
        "outputId": "eeeb836f-0c85-45de-f70d-8a8055a5aa1e"
      },
      "source": [
        "c = a+b  # or c= a.__add__(b)\n",
        "print(c)"
      ],
      "execution_count": 68,
      "outputs": [
        {
          "output_type": "stream",
          "text": [
            "13/6\n"
          ],
          "name": "stdout"
        }
      ]
    },
    {
      "cell_type": "code",
      "metadata": {
        "id": "g7xTM34Ohm6M",
        "colab_type": "code",
        "colab": {
          "base_uri": "https://localhost:8080/",
          "height": 34
        },
        "outputId": "73ae3248-1776-43c9-b777-cb1b917c7a3e"
      },
      "source": [
        "d = a-b  # or d= a.__sub__(b)\n",
        "print(d)"
      ],
      "execution_count": 69,
      "outputs": [
        {
          "output_type": "stream",
          "text": [
            "-7/6\n"
          ],
          "name": "stdout"
        }
      ]
    },
    {
      "cell_type": "code",
      "metadata": {
        "id": "6VIfRBgAh9rO",
        "colab_type": "code",
        "colab": {
          "base_uri": "https://localhost:8080/",
          "height": 34
        },
        "outputId": "88238f75-cb26-494a-d808-25dcd31e2793"
      },
      "source": [
        "e = a*b  # or d= a.__mul__(b)\n",
        "print(e)"
      ],
      "execution_count": 70,
      "outputs": [
        {
          "output_type": "stream",
          "text": [
            "5/6\n"
          ],
          "name": "stdout"
        }
      ]
    },
    {
      "cell_type": "code",
      "metadata": {
        "id": "abuklzt-iPn4",
        "colab_type": "code",
        "colab": {
          "base_uri": "https://localhost:8080/",
          "height": 34
        },
        "outputId": "c9fbeeaa-7c9a-47f5-f4ea-b645fd95160b"
      },
      "source": [
        "f = a/b  # or d= a.__truediv__(b)\n",
        "print(f)"
      ],
      "execution_count": 71,
      "outputs": [
        {
          "output_type": "stream",
          "text": [
            "3/10\n"
          ],
          "name": "stdout"
        }
      ]
    },
    {
      "cell_type": "code",
      "metadata": {
        "id": "uIb93858ipsB",
        "colab_type": "code",
        "colab": {
          "base_uri": "https://localhost:8080/",
          "height": 34
        },
        "outputId": "e44f2f26-35a2-479c-821e-9956a5daec64"
      },
      "source": [
        "g = a**5  # or d= a.__truediv__(b)\n",
        "print(g)"
      ],
      "execution_count": 72,
      "outputs": [
        {
          "output_type": "stream",
          "text": [
            "1/32\n"
          ],
          "name": "stdout"
        }
      ]
    },
    {
      "cell_type": "code",
      "metadata": {
        "id": "uPbDN698jq0R",
        "colab_type": "code",
        "colab": {
          "base_uri": "https://localhost:8080/",
          "height": 34
        },
        "outputId": "f6d779ca-4ac7-4336-aa7b-a79d1e62f140"
      },
      "source": [
        "print(a, ~a)"
      ],
      "execution_count": 73,
      "outputs": [
        {
          "output_type": "stream",
          "text": [
            "1/2 2/1\n"
          ],
          "name": "stdout"
        }
      ]
    },
    {
      "cell_type": "markdown",
      "metadata": {
        "id": "dDiqwyyoliIR",
        "colab_type": "text"
      },
      "source": [
        "## Mixed Fraction Class "
      ]
    },
    {
      "cell_type": "code",
      "metadata": {
        "id": "BvdZU6-MkBZU",
        "colab_type": "code",
        "colab": {}
      },
      "source": [
        "class Mixed( Fraction):\n",
        "\n",
        "  def __init__(self, a,b,c):\n",
        "    assert type(a) == int or type(b) == int or type(c) == int and type(c) != 0  , \"Check out input\"\n",
        "\n",
        "    Fraction.__init__(self,b,c)\n",
        "    self.a = a\n",
        "\n",
        "  def __add__(self, other):\n",
        "    \"\"\"\n",
        "    return the addition of two mixed fractions.\n",
        "    return another fraction\n",
        "    \"\"\"\n",
        "    integer = self.a + other.a\n",
        "    num = self.num*other.dem + other.num*self.dem\n",
        "    dem =  self.dem*other.dem\n",
        "    return Mixed(integer,num,dem)\n",
        "\n",
        "  def __str__(self):\n",
        "    return str(self.a)+\" \"+str(  Fraction(self.num,self.dem)  )\n"
      ],
      "execution_count": 0,
      "outputs": []
    },
    {
      "cell_type": "code",
      "metadata": {
        "id": "E0JlxXe5nWLk",
        "colab_type": "code",
        "colab": {}
      },
      "source": [
        "a = Mixed(1,1,2)\n",
        "b = Mixed(5,6,9)"
      ],
      "execution_count": 0,
      "outputs": []
    },
    {
      "cell_type": "code",
      "metadata": {
        "id": "iaMIiUYynY8B",
        "colab_type": "code",
        "colab": {
          "base_uri": "https://localhost:8080/",
          "height": 51
        },
        "outputId": "3d62a3f0-2191-4dc4-8f9a-e97cb8aa43fc"
      },
      "source": [
        "print(a)\n",
        "print(b)"
      ],
      "execution_count": 121,
      "outputs": [
        {
          "output_type": "stream",
          "text": [
            "1 1/2\n",
            "5 6/9\n"
          ],
          "name": "stdout"
        }
      ]
    },
    {
      "cell_type": "code",
      "metadata": {
        "id": "9-Yg2ICVn5AB",
        "colab_type": "code",
        "colab": {
          "base_uri": "https://localhost:8080/",
          "height": 34
        },
        "outputId": "b27d720c-18da-4f68-cf64-6d6609eaf6f0"
      },
      "source": [
        "print(a+b)"
      ],
      "execution_count": 122,
      "outputs": [
        {
          "output_type": "stream",
          "text": [
            "6 21/18\n"
          ],
          "name": "stdout"
        }
      ]
    },
    {
      "cell_type": "code",
      "metadata": {
        "id": "MkjUofbOox_E",
        "colab_type": "code",
        "colab": {}
      },
      "source": [
        ""
      ],
      "execution_count": 0,
      "outputs": []
    }
  ]
}